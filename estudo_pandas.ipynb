{
 "cells": [
  {
   "cell_type": "markdown",
   "metadata": {},
   "source": [
    "Fazer a importação do arquivo disponível em https://raw.githubusercontent.com/ironhack-datalabs/datalis0819/master/module-2/lab-tableau-data-visualization/data/countries-of-the-world.csv. A base de dados traz informações sobre os países do mundo."
   ]
  },
  {
   "cell_type": "code",
   "execution_count": 2,
   "metadata": {},
   "outputs": [],
   "source": [
    "import pandas as pd\n",
    "import numpy as np"
   ]
  },
  {
   "cell_type": "code",
   "execution_count": 3,
   "metadata": {},
   "outputs": [],
   "source": [
    "base = \"https://raw.githubusercontent.com/ironhack-datalabs/datalis0819/master/module-2/lab-tableau-data-visualization/data/countries-of-the-world.csv\"\n",
    "df = pd.read_csv(base)"
   ]
  },
  {
   "cell_type": "code",
   "execution_count": 4,
   "metadata": {},
   "outputs": [],
   "source": [
    "df.columns = df.columns.str.replace(' ', '_') \n",
    "df.columns = df.columns.str.replace('(', '') \n",
    "df.columns = df.columns.str.replace(')', '')\n",
    "df.columns = df.columns.str.replace('.', '')  \n",
    "df.columns = df.columns.str.replace('/', '_')"
   ]
  },
  {
   "cell_type": "code",
   "execution_count": 5,
   "metadata": {},
   "outputs": [
    {
     "name": "stdout",
     "output_type": "stream",
     "text": [
      "<class 'pandas.core.frame.DataFrame'>\n",
      "RangeIndex: 227 entries, 0 to 226\n",
      "Data columns (total 20 columns):\n",
      " #   Column                            Non-Null Count  Dtype  \n",
      "---  ------                            --------------  -----  \n",
      " 0   Country                           227 non-null    object \n",
      " 1   Region                            227 non-null    object \n",
      " 2   Population                        227 non-null    int64  \n",
      " 3   Area_sq_mi                        227 non-null    int64  \n",
      " 4   Pop_Density_per_sq_mi             227 non-null    object \n",
      " 5   Coastline_coast_area_ratio        227 non-null    object \n",
      " 6   Net_migration                     224 non-null    object \n",
      " 7   Infant_mortality_per_1000_births  224 non-null    object \n",
      " 8   GDP_$_per_capita                  226 non-null    float64\n",
      " 9   Literacy_%                        209 non-null    object \n",
      " 10  Phones_per_1000                   223 non-null    object \n",
      " 11  Arable_%                          225 non-null    object \n",
      " 12  Crops_%                           225 non-null    object \n",
      " 13  Other_%                           225 non-null    object \n",
      " 14  Climate                           205 non-null    object \n",
      " 15  Birthrate                         224 non-null    object \n",
      " 16  Deathrate                         223 non-null    object \n",
      " 17  Agriculture                       212 non-null    object \n",
      " 18  Industry                          211 non-null    object \n",
      " 19  Service                           212 non-null    object \n",
      "dtypes: float64(1), int64(2), object(17)\n",
      "memory usage: 35.6+ KB\n"
     ]
    }
   ],
   "source": [
    "df.info()"
   ]
  },
  {
   "cell_type": "markdown",
   "metadata": {},
   "source": [
    "1)Determinar a quantidade de países por região (Region)."
   ]
  },
  {
   "cell_type": "code",
   "execution_count": 6,
   "metadata": {},
   "outputs": [
    {
     "data": {
      "text/html": [
       "<div>\n",
       "<style scoped>\n",
       "    .dataframe tbody tr th:only-of-type {\n",
       "        vertical-align: middle;\n",
       "    }\n",
       "\n",
       "    .dataframe tbody tr th {\n",
       "        vertical-align: top;\n",
       "    }\n",
       "\n",
       "    .dataframe thead th {\n",
       "        text-align: right;\n",
       "    }\n",
       "</style>\n",
       "<table border=\"1\" class=\"dataframe\">\n",
       "  <thead>\n",
       "    <tr style=\"text-align: right;\">\n",
       "      <th></th>\n",
       "      <th>Region</th>\n",
       "      <th>Country</th>\n",
       "    </tr>\n",
       "  </thead>\n",
       "  <tbody>\n",
       "    <tr>\n",
       "      <th>0</th>\n",
       "      <td>ASIA (EX. NEAR EAST)</td>\n",
       "      <td>28</td>\n",
       "    </tr>\n",
       "    <tr>\n",
       "      <th>1</th>\n",
       "      <td>BALTICS</td>\n",
       "      <td>3</td>\n",
       "    </tr>\n",
       "    <tr>\n",
       "      <th>2</th>\n",
       "      <td>C.W. OF IND. STATES</td>\n",
       "      <td>12</td>\n",
       "    </tr>\n",
       "    <tr>\n",
       "      <th>3</th>\n",
       "      <td>EASTERN EUROPE</td>\n",
       "      <td>12</td>\n",
       "    </tr>\n",
       "    <tr>\n",
       "      <th>4</th>\n",
       "      <td>LATIN AMER. &amp; CARIB</td>\n",
       "      <td>45</td>\n",
       "    </tr>\n",
       "    <tr>\n",
       "      <th>5</th>\n",
       "      <td>NEAR EAST</td>\n",
       "      <td>16</td>\n",
       "    </tr>\n",
       "    <tr>\n",
       "      <th>6</th>\n",
       "      <td>NORTHERN AFRICA</td>\n",
       "      <td>6</td>\n",
       "    </tr>\n",
       "    <tr>\n",
       "      <th>7</th>\n",
       "      <td>NORTHERN AMERICA</td>\n",
       "      <td>5</td>\n",
       "    </tr>\n",
       "    <tr>\n",
       "      <th>8</th>\n",
       "      <td>OCEANIA</td>\n",
       "      <td>21</td>\n",
       "    </tr>\n",
       "    <tr>\n",
       "      <th>9</th>\n",
       "      <td>SUB-SAHARAN AFRICA</td>\n",
       "      <td>51</td>\n",
       "    </tr>\n",
       "    <tr>\n",
       "      <th>10</th>\n",
       "      <td>WESTERN EUROPE</td>\n",
       "      <td>28</td>\n",
       "    </tr>\n",
       "  </tbody>\n",
       "</table>\n",
       "</div>"
      ],
      "text/plain": [
       "                                 Region  Country\n",
       "0         ASIA (EX. NEAR EAST)                28\n",
       "1   BALTICS                                    3\n",
       "2                  C.W. OF IND. STATES        12\n",
       "3   EASTERN EUROPE                            12\n",
       "4               LATIN AMER. & CARIB           45\n",
       "5   NEAR EAST                                 16\n",
       "6   NORTHERN AFRICA                            6\n",
       "7   NORTHERN AMERICA                           5\n",
       "8   OCEANIA                                   21\n",
       "9   SUB-SAHARAN AFRICA                        51\n",
       "10  WESTERN EUROPE                            28"
      ]
     },
     "execution_count": 6,
     "metadata": {},
     "output_type": "execute_result"
    }
   ],
   "source": [
    "df_agrupado = df.groupby('Region')['Country'].count().reset_index()\n",
    "df_agrupado"
   ]
  },
  {
   "cell_type": "markdown",
   "metadata": {},
   "source": [
    "2) Determinar quantos países possuem mais de 100 milhoẽs de habitantes."
   ]
  },
  {
   "cell_type": "code",
   "execution_count": 8,
   "metadata": {},
   "outputs": [
    {
     "data": {
      "text/plain": [
       "11"
      ]
     },
     "execution_count": 8,
     "metadata": {},
     "output_type": "execute_result"
    }
   ],
   "source": [
    "#df.query('Population > 100000000').shape[0]\n",
    "#df[df['Population'] > 100000000].shape[0]\n",
    "country_big_habitante = df.query('Population > 100000000')\n",
    "country_big_habitante.shape[0]"
   ]
  },
  {
   "cell_type": "markdown",
   "metadata": {},
   "source": [
    "3) Apresentar a mediana da mortalidade infantil."
   ]
  },
  {
   "cell_type": "code",
   "execution_count": 9,
   "metadata": {},
   "outputs": [],
   "source": [
    "df['Infant_mortality_per_1000_births']= pd.to_numeric(df['Infant_mortality_per_1000_births'].str.replace(',','.'),errors='coerce')"
   ]
  },
  {
   "cell_type": "code",
   "execution_count": 10,
   "metadata": {},
   "outputs": [
    {
     "data": {
      "text/plain": [
       "21.0"
      ]
     },
     "execution_count": 10,
     "metadata": {},
     "output_type": "execute_result"
    }
   ],
   "source": [
    "df['Infant_mortality_per_1000_births'].median()"
   ]
  },
  {
   "cell_type": "markdown",
   "metadata": {},
   "source": [
    "4) A mediana do percentual de área costeira."
   ]
  },
  {
   "cell_type": "code",
   "execution_count": 11,
   "metadata": {},
   "outputs": [],
   "source": [
    "df['Coastline_coast_area_ratio']= pd.to_numeric(df['Coastline_coast_area_ratio'].str.replace(',','.'),errors='coerce')"
   ]
  },
  {
   "cell_type": "code",
   "execution_count": 12,
   "metadata": {},
   "outputs": [
    {
     "data": {
      "text/plain": [
       "2.02"
      ]
     },
     "execution_count": 12,
     "metadata": {},
     "output_type": "execute_result"
    }
   ],
   "source": [
    "df.Coastline_coast_area_ratio[df['Coastline_coast_area_ratio'] != 0.00].median()"
   ]
  },
  {
   "cell_type": "markdown",
   "metadata": {},
   "source": [
    "5) Os percentis de 10 e 90% da taxa de mortalidade (Deathrate)."
   ]
  },
  {
   "cell_type": "code",
   "execution_count": 13,
   "metadata": {},
   "outputs": [
    {
     "data": {
      "text/plain": [
       "4.626"
      ]
     },
     "execution_count": 13,
     "metadata": {},
     "output_type": "execute_result"
    }
   ],
   "source": [
    "df['Deathrate']= pd.to_numeric(df['Deathrate'].str.replace(',','.'),errors='coerce')\n",
    "df['Deathrate'].quantile(q=0.10, interpolation='linear')"
   ]
  },
  {
   "cell_type": "code",
   "execution_count": 14,
   "metadata": {},
   "outputs": [
    {
     "data": {
      "text/plain": [
       "15.992000000000004"
      ]
     },
     "execution_count": 14,
     "metadata": {},
     "output_type": "execute_result"
    }
   ],
   "source": [
    "df['Deathrate'].quantile(q=0.90, interpolation='linear')"
   ]
  },
  {
   "cell_type": "markdown",
   "metadata": {},
   "source": [
    "6) Obter a correlação entre mortalidade infantil e renda per capita."
   ]
  },
  {
   "cell_type": "code",
   "execution_count": 15,
   "metadata": {},
   "outputs": [
    {
     "data": {
      "text/html": [
       "<div>\n",
       "<style scoped>\n",
       "    .dataframe tbody tr th:only-of-type {\n",
       "        vertical-align: middle;\n",
       "    }\n",
       "\n",
       "    .dataframe tbody tr th {\n",
       "        vertical-align: top;\n",
       "    }\n",
       "\n",
       "    .dataframe thead th {\n",
       "        text-align: right;\n",
       "    }\n",
       "</style>\n",
       "<table border=\"1\" class=\"dataframe\">\n",
       "  <thead>\n",
       "    <tr style=\"text-align: right;\">\n",
       "      <th></th>\n",
       "      <th>Infant_mortality_per_1000_births</th>\n",
       "      <th>GDP_$_per_capita</th>\n",
       "    </tr>\n",
       "  </thead>\n",
       "  <tbody>\n",
       "    <tr>\n",
       "      <th>Infant_mortality_per_1000_births</th>\n",
       "      <td>1.000000</td>\n",
       "      <td>-0.600774</td>\n",
       "    </tr>\n",
       "    <tr>\n",
       "      <th>GDP_$_per_capita</th>\n",
       "      <td>-0.600774</td>\n",
       "      <td>1.000000</td>\n",
       "    </tr>\n",
       "  </tbody>\n",
       "</table>\n",
       "</div>"
      ],
      "text/plain": [
       "                                  Infant_mortality_per_1000_births  \\\n",
       "Infant_mortality_per_1000_births                          1.000000   \n",
       "GDP_$_per_capita                                         -0.600774   \n",
       "\n",
       "                                  GDP_$_per_capita  \n",
       "Infant_mortality_per_1000_births         -0.600774  \n",
       "GDP_$_per_capita                          1.000000  "
      ]
     },
     "execution_count": 15,
     "metadata": {},
     "output_type": "execute_result"
    }
   ],
   "source": [
    "df['Infant_mortality_per_1000_births']= pd.to_numeric(df['Infant_mortality_per_1000_births'].replace(',','.'),errors='coerce')\n",
    "df[['Infant_mortality_per_1000_births', 'GDP_$_per_capita']].corr()"
   ]
  },
  {
   "cell_type": "markdown",
   "metadata": {},
   "source": [
    "7) A linha do país com a maior área."
   ]
  },
  {
   "cell_type": "code",
   "execution_count": 16,
   "metadata": {},
   "outputs": [
    {
     "data": {
      "text/html": [
       "<div>\n",
       "<style scoped>\n",
       "    .dataframe tbody tr th:only-of-type {\n",
       "        vertical-align: middle;\n",
       "    }\n",
       "\n",
       "    .dataframe tbody tr th {\n",
       "        vertical-align: top;\n",
       "    }\n",
       "\n",
       "    .dataframe thead th {\n",
       "        text-align: right;\n",
       "    }\n",
       "</style>\n",
       "<table border=\"1\" class=\"dataframe\">\n",
       "  <thead>\n",
       "    <tr style=\"text-align: right;\">\n",
       "      <th></th>\n",
       "      <th>Country</th>\n",
       "      <th>Region</th>\n",
       "      <th>Population</th>\n",
       "      <th>Area_sq_mi</th>\n",
       "      <th>Pop_Density_per_sq_mi</th>\n",
       "      <th>Coastline_coast_area_ratio</th>\n",
       "      <th>Net_migration</th>\n",
       "      <th>Infant_mortality_per_1000_births</th>\n",
       "      <th>GDP_$_per_capita</th>\n",
       "      <th>Literacy_%</th>\n",
       "      <th>Phones_per_1000</th>\n",
       "      <th>Arable_%</th>\n",
       "      <th>Crops_%</th>\n",
       "      <th>Other_%</th>\n",
       "      <th>Climate</th>\n",
       "      <th>Birthrate</th>\n",
       "      <th>Deathrate</th>\n",
       "      <th>Agriculture</th>\n",
       "      <th>Industry</th>\n",
       "      <th>Service</th>\n",
       "    </tr>\n",
       "  </thead>\n",
       "  <tbody>\n",
       "    <tr>\n",
       "      <th>169</th>\n",
       "      <td>Russia</td>\n",
       "      <td>C.W. OF IND. STATES</td>\n",
       "      <td>142893540</td>\n",
       "      <td>17075200</td>\n",
       "      <td>8,4</td>\n",
       "      <td>0.22</td>\n",
       "      <td>1,02</td>\n",
       "      <td>15.39</td>\n",
       "      <td>8900.0</td>\n",
       "      <td>99,6</td>\n",
       "      <td>280,6</td>\n",
       "      <td>7,33</td>\n",
       "      <td>0,11</td>\n",
       "      <td>92,56</td>\n",
       "      <td>NaN</td>\n",
       "      <td>9,95</td>\n",
       "      <td>14.65</td>\n",
       "      <td>0,054</td>\n",
       "      <td>0,371</td>\n",
       "      <td>0,575</td>\n",
       "    </tr>\n",
       "  </tbody>\n",
       "</table>\n",
       "</div>"
      ],
      "text/plain": [
       "     Country                Region  Population  Area_sq_mi  \\\n",
       "169  Russia   C.W. OF IND. STATES    142893540    17075200   \n",
       "\n",
       "    Pop_Density_per_sq_mi  Coastline_coast_area_ratio Net_migration  \\\n",
       "169                   8,4                        0.22          1,02   \n",
       "\n",
       "     Infant_mortality_per_1000_births  GDP_$_per_capita Literacy_%  \\\n",
       "169                             15.39            8900.0       99,6   \n",
       "\n",
       "    Phones_per_1000 Arable_% Crops_% Other_% Climate Birthrate  Deathrate  \\\n",
       "169           280,6     7,33    0,11   92,56     NaN      9,95      14.65   \n",
       "\n",
       "    Agriculture Industry Service  \n",
       "169       0,054    0,371   0,575  "
      ]
     },
     "execution_count": 16,
     "metadata": {},
     "output_type": "execute_result"
    }
   ],
   "source": [
    "df[df['Area_sq_mi'] == df['Area_sq_mi'].max()]"
   ]
  },
  {
   "cell_type": "markdown",
   "metadata": {},
   "source": [
    "8) A linha do país com mais telefones."
   ]
  },
  {
   "cell_type": "code",
   "execution_count": 17,
   "metadata": {},
   "outputs": [],
   "source": [
    "df['Phones_per_1000']= pd.to_numeric(df['Phones_per_1000'].str.replace(',','.'),errors='coerce')"
   ]
  },
  {
   "cell_type": "code",
   "execution_count": 18,
   "metadata": {},
   "outputs": [
    {
     "data": {
      "text/html": [
       "<div>\n",
       "<style scoped>\n",
       "    .dataframe tbody tr th:only-of-type {\n",
       "        vertical-align: middle;\n",
       "    }\n",
       "\n",
       "    .dataframe tbody tr th {\n",
       "        vertical-align: top;\n",
       "    }\n",
       "\n",
       "    .dataframe thead th {\n",
       "        text-align: right;\n",
       "    }\n",
       "</style>\n",
       "<table border=\"1\" class=\"dataframe\">\n",
       "  <thead>\n",
       "    <tr style=\"text-align: right;\">\n",
       "      <th></th>\n",
       "      <th>Country</th>\n",
       "      <th>Region</th>\n",
       "      <th>Population</th>\n",
       "      <th>Area_sq_mi</th>\n",
       "      <th>Pop_Density_per_sq_mi</th>\n",
       "      <th>Coastline_coast_area_ratio</th>\n",
       "      <th>Net_migration</th>\n",
       "      <th>Infant_mortality_per_1000_births</th>\n",
       "      <th>GDP_$_per_capita</th>\n",
       "      <th>Literacy_%</th>\n",
       "      <th>...</th>\n",
       "      <th>Arable_%</th>\n",
       "      <th>Crops_%</th>\n",
       "      <th>Other_%</th>\n",
       "      <th>Climate</th>\n",
       "      <th>Birthrate</th>\n",
       "      <th>Deathrate</th>\n",
       "      <th>Agriculture</th>\n",
       "      <th>Industry</th>\n",
       "      <th>Service</th>\n",
       "      <th>total_fone</th>\n",
       "    </tr>\n",
       "  </thead>\n",
       "  <tbody>\n",
       "    <tr>\n",
       "      <th>42</th>\n",
       "      <td>China</td>\n",
       "      <td>ASIA (EX. NEAR EAST)</td>\n",
       "      <td>1313973713</td>\n",
       "      <td>9596960</td>\n",
       "      <td>136,9</td>\n",
       "      <td>0.15</td>\n",
       "      <td>-0,4</td>\n",
       "      <td>24.18</td>\n",
       "      <td>5000.0</td>\n",
       "      <td>90,9</td>\n",
       "      <td>...</td>\n",
       "      <td>15,4</td>\n",
       "      <td>1,25</td>\n",
       "      <td>83,35</td>\n",
       "      <td>1,5</td>\n",
       "      <td>13,25</td>\n",
       "      <td>6.97</td>\n",
       "      <td>0,125</td>\n",
       "      <td>0,473</td>\n",
       "      <td>0,403</td>\n",
       "      <td>3.504368e+08</td>\n",
       "    </tr>\n",
       "  </tbody>\n",
       "</table>\n",
       "<p>1 rows × 21 columns</p>\n",
       "</div>"
      ],
      "text/plain": [
       "   Country                         Region  Population  Area_sq_mi  \\\n",
       "42  China   ASIA (EX. NEAR EAST)           1313973713     9596960   \n",
       "\n",
       "   Pop_Density_per_sq_mi  Coastline_coast_area_ratio Net_migration  \\\n",
       "42                 136,9                        0.15          -0,4   \n",
       "\n",
       "    Infant_mortality_per_1000_births  GDP_$_per_capita Literacy_%  ...  \\\n",
       "42                             24.18            5000.0       90,9  ...   \n",
       "\n",
       "    Arable_% Crops_% Other_% Climate Birthrate Deathrate  Agriculture  \\\n",
       "42      15,4    1,25   83,35     1,5     13,25      6.97        0,125   \n",
       "\n",
       "   Industry Service    total_fone  \n",
       "42    0,473   0,403  3.504368e+08  \n",
       "\n",
       "[1 rows x 21 columns]"
      ]
     },
     "execution_count": 18,
     "metadata": {},
     "output_type": "execute_result"
    }
   ],
   "source": [
    "df['total_fone'] = df['Phones_per_1000'] / 1000 * df['Population']\n",
    "df[df['total_fone'] == df['total_fone'].max()]"
   ]
  },
  {
   "cell_type": "code",
   "execution_count": 19,
   "metadata": {},
   "outputs": [
    {
     "data": {
      "text/html": [
       "<div>\n",
       "<style scoped>\n",
       "    .dataframe tbody tr th:only-of-type {\n",
       "        vertical-align: middle;\n",
       "    }\n",
       "\n",
       "    .dataframe tbody tr th {\n",
       "        vertical-align: top;\n",
       "    }\n",
       "\n",
       "    .dataframe thead th {\n",
       "        text-align: right;\n",
       "    }\n",
       "</style>\n",
       "<table border=\"1\" class=\"dataframe\">\n",
       "  <thead>\n",
       "    <tr style=\"text-align: right;\">\n",
       "      <th></th>\n",
       "      <th>Country</th>\n",
       "      <th>Region</th>\n",
       "      <th>Population</th>\n",
       "      <th>Area_sq_mi</th>\n",
       "      <th>Pop_Density_per_sq_mi</th>\n",
       "      <th>Coastline_coast_area_ratio</th>\n",
       "      <th>Net_migration</th>\n",
       "      <th>Infant_mortality_per_1000_births</th>\n",
       "      <th>GDP_$_per_capita</th>\n",
       "      <th>Literacy_%</th>\n",
       "      <th>...</th>\n",
       "      <th>Arable_%</th>\n",
       "      <th>Crops_%</th>\n",
       "      <th>Other_%</th>\n",
       "      <th>Climate</th>\n",
       "      <th>Birthrate</th>\n",
       "      <th>Deathrate</th>\n",
       "      <th>Agriculture</th>\n",
       "      <th>Industry</th>\n",
       "      <th>Service</th>\n",
       "      <th>total_fone</th>\n",
       "    </tr>\n",
       "  </thead>\n",
       "  <tbody>\n",
       "    <tr>\n",
       "      <th>138</th>\n",
       "      <td>Monaco</td>\n",
       "      <td>WESTERN EUROPE</td>\n",
       "      <td>32543</td>\n",
       "      <td>2</td>\n",
       "      <td>16271,5</td>\n",
       "      <td>205.0</td>\n",
       "      <td>7,75</td>\n",
       "      <td>5.43</td>\n",
       "      <td>27000.0</td>\n",
       "      <td>99,0</td>\n",
       "      <td>...</td>\n",
       "      <td>0</td>\n",
       "      <td>0</td>\n",
       "      <td>100</td>\n",
       "      <td>NaN</td>\n",
       "      <td>9,19</td>\n",
       "      <td>12.91</td>\n",
       "      <td>0,17</td>\n",
       "      <td>NaN</td>\n",
       "      <td>NaN</td>\n",
       "      <td>33701.5308</td>\n",
       "    </tr>\n",
       "  </tbody>\n",
       "</table>\n",
       "<p>1 rows × 21 columns</p>\n",
       "</div>"
      ],
      "text/plain": [
       "     Country                               Region  Population  Area_sq_mi  \\\n",
       "138  Monaco   WESTERN EUROPE                            32543           2   \n",
       "\n",
       "    Pop_Density_per_sq_mi  Coastline_coast_area_ratio Net_migration  \\\n",
       "138               16271,5                       205.0          7,75   \n",
       "\n",
       "     Infant_mortality_per_1000_births  GDP_$_per_capita Literacy_%  ...  \\\n",
       "138                              5.43           27000.0       99,0  ...   \n",
       "\n",
       "     Arable_% Crops_% Other_% Climate Birthrate Deathrate  Agriculture  \\\n",
       "138         0       0     100     NaN      9,19     12.91         0,17   \n",
       "\n",
       "    Industry Service  total_fone  \n",
       "138      NaN     NaN  33701.5308  \n",
       "\n",
       "[1 rows x 21 columns]"
      ]
     },
     "execution_count": 19,
     "metadata": {},
     "output_type": "execute_result"
    }
   ],
   "source": [
    "df[df['Phones_per_1000'] == df['Phones_per_1000'].max()]"
   ]
  },
  {
   "cell_type": "markdown",
   "metadata": {},
   "source": [
    "9) Os 5 países mais alfabetizados."
   ]
  },
  {
   "cell_type": "code",
   "execution_count": 22,
   "metadata": {},
   "outputs": [],
   "source": [
    "df['Literacy_%']= pd.to_numeric(df['Literacy_%'].str.replace(',','.'),errors='coerce')"
   ]
  },
  {
   "cell_type": "code",
   "execution_count": 23,
   "metadata": {},
   "outputs": [
    {
     "data": {
      "text/html": [
       "<div>\n",
       "<style scoped>\n",
       "    .dataframe tbody tr th:only-of-type {\n",
       "        vertical-align: middle;\n",
       "    }\n",
       "\n",
       "    .dataframe tbody tr th {\n",
       "        vertical-align: top;\n",
       "    }\n",
       "\n",
       "    .dataframe thead th {\n",
       "        text-align: right;\n",
       "    }\n",
       "</style>\n",
       "<table border=\"1\" class=\"dataframe\">\n",
       "  <thead>\n",
       "    <tr style=\"text-align: right;\">\n",
       "      <th></th>\n",
       "      <th>Country</th>\n",
       "      <th>Literacy_%</th>\n",
       "    </tr>\n",
       "  </thead>\n",
       "  <tbody>\n",
       "    <tr>\n",
       "      <th>4</th>\n",
       "      <td>Andorra</td>\n",
       "      <td>100.0</td>\n",
       "    </tr>\n",
       "    <tr>\n",
       "      <th>11</th>\n",
       "      <td>Australia</td>\n",
       "      <td>100.0</td>\n",
       "    </tr>\n",
       "    <tr>\n",
       "      <th>54</th>\n",
       "      <td>Denmark</td>\n",
       "      <td>100.0</td>\n",
       "    </tr>\n",
       "    <tr>\n",
       "      <th>68</th>\n",
       "      <td>Finland</td>\n",
       "      <td>100.0</td>\n",
       "    </tr>\n",
       "    <tr>\n",
       "      <th>119</th>\n",
       "      <td>Liechtenstein</td>\n",
       "      <td>100.0</td>\n",
       "    </tr>\n",
       "  </tbody>\n",
       "</table>\n",
       "</div>"
      ],
      "text/plain": [
       "            Country  Literacy_%\n",
       "4          Andorra        100.0\n",
       "11       Australia        100.0\n",
       "54         Denmark        100.0\n",
       "68         Finland        100.0\n",
       "119  Liechtenstein        100.0"
      ]
     },
     "execution_count": 23,
     "metadata": {},
     "output_type": "execute_result"
    }
   ],
   "source": [
    "df.nlargest(5, 'Literacy_%')[['Country','Literacy_%']]"
   ]
  },
  {
   "cell_type": "markdown",
   "metadata": {},
   "source": [
    "10) Os 10 países menos industrializados."
   ]
  },
  {
   "cell_type": "code",
   "execution_count": 24,
   "metadata": {},
   "outputs": [
    {
     "data": {
      "text/html": [
       "<div>\n",
       "<style scoped>\n",
       "    .dataframe tbody tr th:only-of-type {\n",
       "        vertical-align: middle;\n",
       "    }\n",
       "\n",
       "    .dataframe tbody tr th {\n",
       "        vertical-align: top;\n",
       "    }\n",
       "\n",
       "    .dataframe thead th {\n",
       "        text-align: right;\n",
       "    }\n",
       "</style>\n",
       "<table border=\"1\" class=\"dataframe\">\n",
       "  <thead>\n",
       "    <tr style=\"text-align: right;\">\n",
       "      <th></th>\n",
       "      <th>Country</th>\n",
       "      <th>Industry</th>\n",
       "    </tr>\n",
       "  </thead>\n",
       "  <tbody>\n",
       "    <tr>\n",
       "      <th>104</th>\n",
       "      <td>Jersey</td>\n",
       "      <td>0.020</td>\n",
       "    </tr>\n",
       "    <tr>\n",
       "      <th>38</th>\n",
       "      <td>Cayman Islands</td>\n",
       "      <td>0.032</td>\n",
       "    </tr>\n",
       "    <tr>\n",
       "      <th>44</th>\n",
       "      <td>Comoros</td>\n",
       "      <td>0.040</td>\n",
       "    </tr>\n",
       "    <tr>\n",
       "      <th>117</th>\n",
       "      <td>Liberia</td>\n",
       "      <td>0.054</td>\n",
       "    </tr>\n",
       "    <tr>\n",
       "      <th>28</th>\n",
       "      <td>British Virgin Is.</td>\n",
       "      <td>0.062</td>\n",
       "    </tr>\n",
       "    <tr>\n",
       "      <th>14</th>\n",
       "      <td>Bahamas, The</td>\n",
       "      <td>0.070</td>\n",
       "    </tr>\n",
       "    <tr>\n",
       "      <th>122</th>\n",
       "      <td>Macau</td>\n",
       "      <td>0.072</td>\n",
       "    </tr>\n",
       "    <tr>\n",
       "      <th>32</th>\n",
       "      <td>Burma</td>\n",
       "      <td>0.082</td>\n",
       "    </tr>\n",
       "    <tr>\n",
       "      <th>148</th>\n",
       "      <td>New Caledonia</td>\n",
       "      <td>0.088</td>\n",
       "    </tr>\n",
       "    <tr>\n",
       "      <th>91</th>\n",
       "      <td>Hong Kong</td>\n",
       "      <td>0.092</td>\n",
       "    </tr>\n",
       "  </tbody>\n",
       "</table>\n",
       "</div>"
      ],
      "text/plain": [
       "                 Country  Industry\n",
       "104              Jersey      0.020\n",
       "38       Cayman Islands      0.032\n",
       "44              Comoros      0.040\n",
       "117             Liberia      0.054\n",
       "28   British Virgin Is.      0.062\n",
       "14         Bahamas, The      0.070\n",
       "122               Macau      0.072\n",
       "32                Burma      0.082\n",
       "148       New Caledonia      0.088\n",
       "91            Hong Kong      0.092"
      ]
     },
     "execution_count": 24,
     "metadata": {},
     "output_type": "execute_result"
    }
   ],
   "source": [
    "df['Industry']= pd.to_numeric(df['Industry'].str.replace(',','.'),errors='coerce')\n",
    "df.nsmallest(10, 'Industry')[['Country','Industry']]"
   ]
  },
  {
   "cell_type": "code",
   "execution_count": null,
   "metadata": {},
   "outputs": [],
   "source": []
  }
 ],
 "metadata": {
  "kernelspec": {
   "display_name": "Python 3",
   "language": "python",
   "name": "python3"
  },
  "language_info": {
   "codemirror_mode": {
    "name": "ipython",
    "version": 3
   },
   "file_extension": ".py",
   "mimetype": "text/x-python",
   "name": "python",
   "nbconvert_exporter": "python",
   "pygments_lexer": "ipython3",
   "version": "3.8.5"
  }
 },
 "nbformat": 4,
 "nbformat_minor": 4
}
