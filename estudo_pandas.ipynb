{
 "cells": [
  {
   "cell_type": "markdown",
   "metadata": {},
   "source": [
    "Fazer a importação do arquivo disponível em https://raw.githubusercontent.com/ironhack-datalabs/datalis0819/master/module-2/lab-tableau-data-visualization/data/countries-of-the-world.csv. A base de dados traz informações sobre os países do mundo."
   ]
  },
  {
   "cell_type": "code",
   "execution_count": 2,
   "metadata": {},
   "outputs": [],
   "source": [
    "import pandas as pd\n",
    "import numpy as np"
   ]
  },
  {
   "cell_type": "code",
   "execution_count": 3,
   "metadata": {},
   "outputs": [],
   "source": [
    "base = \"https://raw.githubusercontent.com/ironhack-datalabs/datalis0819/master/module-2/lab-tableau-data-visualization/data/countries-of-the-world.csv\"\n",
    "df = pd.read_csv(base)"
   ]
  },
  {
   "cell_type": "code",
   "execution_count": 4,
   "metadata": {},
   "outputs": [],
   "source": [
    "df.columns = df.columns.str.replace(' ', '_') \n",
    "df.columns = df.columns.str.replace('(', '') \n",
    "df.columns = df.columns.str.replace(')', '')\n",
    "df.columns = df.columns.str.replace('.', '')  \n",
    "df.columns = df.columns.str.replace('/', '_')"
   ]
  },
  {
   "cell_type": "code",
   "execution_count": 5,
   "metadata": {},
   "outputs": [
    {
     "name": "stdout",
     "output_type": "stream",
     "text": [
      "<class 'pandas.core.frame.DataFrame'>\n",
      "RangeIndex: 227 entries, 0 to 226\n",
      "Data columns (total 20 columns):\n",
      " #   Column                            Non-Null Count  Dtype  \n",
      "---  ------                            --------------  -----  \n",
      " 0   Country                           227 non-null    object \n",
      " 1   Region                            227 non-null    object \n",
      " 2   Population                        227 non-null    int64  \n",
      " 3   Area_sq_mi                        227 non-null    int64  \n",
      " 4   Pop_Density_per_sq_mi             227 non-null    object \n",
      " 5   Coastline_coast_area_ratio        227 non-null    object \n",
      " 6   Net_migration                     224 non-null    object \n",
      " 7   Infant_mortality_per_1000_births  224 non-null    object \n",
      " 8   GDP_$_per_capita                  226 non-null    float64\n",
      " 9   Literacy_%                        209 non-null    object \n",
      " 10  Phones_per_1000                   223 non-null    object \n",
      " 11  Arable_%                          225 non-null    object \n",
      " 12  Crops_%                           225 non-null    object \n",
      " 13  Other_%                           225 non-null    object \n",
      " 14  Climate                           205 non-null    object \n",
      " 15  Birthrate                         224 non-null    object \n",
      " 16  Deathrate                         223 non-null    object \n",
      " 17  Agriculture                       212 non-null    object \n",
      " 18  Industry                          211 non-null    object \n",
      " 19  Service                           212 non-null    object \n",
      "dtypes: float64(1), int64(2), object(17)\n",
      "memory usage: 35.6+ KB\n"
     ]
    }
   ],
   "source": [
    "df.info()"
   ]
  },
  {
   "cell_type": "markdown",
   "metadata": {},
   "source": [
    "1)Determinar a quantidade de países por região (Region)."
   ]
  },
  {
   "cell_type": "code",
   "execution_count": 6,
   "metadata": {},
   "outputs": [
    {
     "data": {
      "text/html": [
       "<div>\n",
       "<style scoped>\n",
       "    .dataframe tbody tr th:only-of-type {\n",
       "        vertical-align: middle;\n",
       "    }\n",
       "\n",
       "    .dataframe tbody tr th {\n",
       "        vertical-align: top;\n",
       "    }\n",
       "\n",
       "    .dataframe thead th {\n",
       "        text-align: right;\n",
       "    }\n",
       "</style>\n",
       "<table border=\"1\" class=\"dataframe\">\n",
       "  <thead>\n",
       "    <tr style=\"text-align: right;\">\n",
       "      <th></th>\n",
       "      <th>Region</th>\n",
       "      <th>Country</th>\n",
       "    </tr>\n",
       "  </thead>\n",
       "  <tbody>\n",
       "    <tr>\n",
       "      <th>0</th>\n",
       "      <td>ASIA (EX. NEAR EAST)</td>\n",
       "      <td>28</td>\n",
       "    </tr>\n",
       "    <tr>\n",
       "      <th>1</th>\n",
       "      <td>BALTICS</td>\n",
       "      <td>3</td>\n",
       "    </tr>\n",
       "    <tr>\n",
       "      <th>2</th>\n",
       "      <td>C.W. OF IND. STATES</td>\n",
       "      <td>12</td>\n",
       "    </tr>\n",
       "    <tr>\n",
       "      <th>3</th>\n",
       "      <td>EASTERN EUROPE</td>\n",
       "      <td>12</td>\n",
       "    </tr>\n",
       "    <tr>\n",
       "      <th>4</th>\n",
       "      <td>LATIN AMER. &amp; CARIB</td>\n",
       "      <td>45</td>\n",
       "    </tr>\n",
       "    <tr>\n",
       "      <th>5</th>\n",
       "      <td>NEAR EAST</td>\n",
       "      <td>16</td>\n",
       "    </tr>\n",
       "    <tr>\n",
       "      <th>6</th>\n",
       "      <td>NORTHERN AFRICA</td>\n",
       "      <td>6</td>\n",
       "    </tr>\n",
       "    <tr>\n",
       "      <th>7</th>\n",
       "      <td>NORTHERN AMERICA</td>\n",
       "      <td>5</td>\n",
       "    </tr>\n",
       "    <tr>\n",
       "      <th>8</th>\n",
       "      <td>OCEANIA</td>\n",
       "      <td>21</td>\n",
       "    </tr>\n",
       "    <tr>\n",
       "      <th>9</th>\n",
       "      <td>SUB-SAHARAN AFRICA</td>\n",
       "      <td>51</td>\n",
       "    </tr>\n",
       "    <tr>\n",
       "      <th>10</th>\n",
       "      <td>WESTERN EUROPE</td>\n",
       "      <td>28</td>\n",
       "    </tr>\n",
       "  </tbody>\n",
       "</table>\n",
       "</div>"
      ],
      "text/plain": [
       "                                 Region  Country\n",
       "0         ASIA (EX. NEAR EAST)                28\n",
       "1   BALTICS                                    3\n",
       "2                  C.W. OF IND. STATES        12\n",
       "3   EASTERN EUROPE                            12\n",
       "4               LATIN AMER. & CARIB           45\n",
       "5   NEAR EAST                                 16\n",
       "6   NORTHERN AFRICA                            6\n",
       "7   NORTHERN AMERICA                           5\n",
       "8   OCEANIA                                   21\n",
       "9   SUB-SAHARAN AFRICA                        51\n",
       "10  WESTERN EUROPE                            28"
      ]
     },
     "execution_count": 6,
     "metadata": {},
     "output_type": "execute_result"
    }
   ],
   "source": [
    "df_agrupado = df.groupby('Region')['Country'].count().reset_index()\n",
    "df_agrupado"
   ]
  },
  {
   "cell_type": "markdown",
   "metadata": {},
   "source": [
    "2) Determinar quantos países possuem mais de 100 milhoẽs de habitantes."
   ]
  },
  {
   "cell_type": "code",
   "execution_count": 8,
   "metadata": {},
   "outputs": [
    {
     "data": {
      "text/plain": [
       "11"
      ]
     },
     "execution_count": 8,
     "metadata": {},
     "output_type": "execute_result"
    }
   ],
   "source": [
    "#df.query('Population > 100000000').shape[0]\n",
    "#df[df['Population'] > 100000000].shape[0]\n",
    "country_big_habitante = df.query('Population > 100000000')\n",
    "country_big_habitante.shape[0]"
   ]
  },
  {
   "cell_type": "code",
   "execution_count": null,
   "metadata": {},
   "outputs": [],
   "source": []
  }
 ],
 "metadata": {
  "kernelspec": {
   "display_name": "Python 3",
   "language": "python",
   "name": "python3"
  },
  "language_info": {
   "codemirror_mode": {
    "name": "ipython",
    "version": 3
   },
   "file_extension": ".py",
   "mimetype": "text/x-python",
   "name": "python",
   "nbconvert_exporter": "python",
   "pygments_lexer": "ipython3",
   "version": "3.8.5"
  }
 },
 "nbformat": 4,
 "nbformat_minor": 4
}
